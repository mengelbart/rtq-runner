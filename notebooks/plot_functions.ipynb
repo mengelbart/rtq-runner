{
 "cells": [
  {
   "cell_type": "code",
   "execution_count": 2,
   "id": "9bedc1c4",
   "metadata": {},
   "outputs": [],
   "source": [
    "import os\n",
    "import json\n",
    "import pandas as pd\n",
    "import matplotlib.pyplot as plt\n",
    "import matplotlib.dates as mdates\n",
    "from matplotlib.ticker import EngFormatter"
   ]
  },
  {
   "cell_type": "code",
   "execution_count": null,
   "id": "b915fd9c",
   "metadata": {},
   "outputs": [],
   "source": [
    "RTP_OUT = 'send_log/rtp_out.log'\n",
    "RTP_IN = 'receive_log/rtp_in.log'\n",
    "RTCP_OUT = 'receive_log/rtcp_out.log'\n",
    "RTCP_IN = 'send_log/rtcp_in.log'\n",
    "SCREAM_LOG = 'send_log/scream.log'\n",
    "GCC_LOG = 'send_log/gcc.log'\n",
    "QLOG_SEND = 'send_log/*.qlog'\n",
    "QLOG_RECEIVE = 'receive_log/*.qlog'"
   ]
  },
  {
   "cell_type": "code",
   "execution_count": 3,
   "id": "1bbb6ad3",
   "metadata": {},
   "outputs": [],
   "source": [
    "def plot_rates():\n",
    "    df = pd.read_csv(\n",
    "        '../output/a/send_log/'\n",
    "    )"
   ]
  },
  {
   "cell_type": "code",
   "execution_count": 8,
   "id": "dc5e52a0",
   "metadata": {},
   "outputs": [
    {
     "name": "stdout",
     "output_type": "stream",
     "text": [
      "d1dfbcdc0df4c8c86924deab0ebf.qlog  rtcp_in.log\trtp_out.log  scream.log\r\n"
     ]
    }
   ],
   "source": [
    "!ls ../output/a/send_log/"
   ]
  },
  {
   "cell_type": "code",
   "execution_count": 9,
   "id": "1c1c4cef",
   "metadata": {},
   "outputs": [
    {
     "name": "stdout",
     "output_type": "stream",
     "text": [
      "d1dfbcdc0df4c8c86924deab0ebf.qlog  rtcp_out.log  rtp_in.log\r\n"
     ]
    }
   ],
   "source": [
    "!ls ../output/a/receive_log/"
   ]
  },
  {
   "cell_type": "code",
   "execution_count": null,
   "id": "cda92cd1",
   "metadata": {},
   "outputs": [],
   "source": []
  }
 ],
 "metadata": {
  "kernelspec": {
   "display_name": "Python 3 (ipykernel)",
   "language": "python",
   "name": "python3"
  },
  "language_info": {
   "codemirror_mode": {
    "name": "ipython",
    "version": 3
   },
   "file_extension": ".py",
   "mimetype": "text/x-python",
   "name": "python",
   "nbconvert_exporter": "python",
   "pygments_lexer": "ipython3",
   "version": "3.10.1"
  }
 },
 "nbformat": 4,
 "nbformat_minor": 5
}
